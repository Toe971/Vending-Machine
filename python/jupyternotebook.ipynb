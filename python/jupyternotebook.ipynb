{
 "metadata": {
  "language_info": {
   "codemirror_mode": {
    "name": "ipython",
    "version": 3
   },
   "file_extension": ".py",
   "mimetype": "text/x-python",
   "name": "python",
   "nbconvert_exporter": "python",
   "pygments_lexer": "ipython3",
   "version": "3.8.5-final"
  },
  "orig_nbformat": 2,
  "kernelspec": {
   "name": "python3",
   "display_name": "Python 3",
   "language": "python"
  }
 },
 "nbformat": 4,
 "nbformat_minor": 2,
 "cells": [
  {
   "source": [
    "# https://www.tutorialspoint.com/rxpy/rxpy_quick_guide.htm"
   ],
   "cell_type": "markdown",
   "metadata": {}
  },
  {
   "source": [
    "\n",
    "\n",
    "import rx\n",
    "from rx import operators as ops\n",
    "rx.of(1,2,3,4,5,6,7,8,9).pipe(\n",
    "    ops.filter(lambda i: i % 2 == 0),\n",
    ").subscribe(lambda x: print(\"Even numbers are {0}\".format(x)))\n",
    "\n",
    "rx.of(1,2,3,4,5,6,7,8,9).pipe(\n",
    "    ops.filter(lambda i: i % 2 == 0),\n",
    "    ops.sum()\n",
    ").subscribe(lambda x: print(\"Sum of even numbers are {0}\".format(x)))"
   ],
   "cell_type": "code",
   "metadata": {},
   "execution_count": null,
   "outputs": []
  },
  {
   "source": [
    "# Creating Observables\n",
    "\n",
    "* on_next() − This function gets called when the Observable emits an item.\n",
    "\n",
    "* on_completed() − This function gets called when the Observable is complete.\n",
    "\n",
    "* on_error() − This function gets called when an error occurs on the Observable.\n",
    "\n",
    "* we attach the functions to the observable inside a function in this case"
   ],
   "cell_type": "markdown",
   "metadata": {}
  },
  {
   "source": [
    "\n",
    "from rx import create\n",
    "def test_observable(observer, scheduler):\n",
    "    observer.on_next(\"Hello\")\n",
    "    observer.on_next(\"Can you hear me?\")\n",
    "    observer.on_next([i * i for i in range(100)])\n",
    "    # below line throws an error\n",
    "    # for actual development do not need .on_error(), below is shown \n",
    "    # just to test the on_error = lambda e: ... \n",
    "    # in source.subscribe(...) which should process any error that comes up\n",
    "    observer.on_error(\"Error\")\n",
    "    observer.on_completed()\n",
    "source = create(test_observable)\n",
    "source.subscribe(\n",
    "    on_next = lambda i: print(\"Got - {0}\".format(i)),\n",
    "    # receive error passed from above, if dont have the below line python terminal will throw error\n",
    "    # \n",
    "    on_error = lambda e: print(\"Got - {0}\".format(e)),\n",
    "    on_completed = lambda: print(\"Job done!\"),\n",
    ")"
   ],
   "cell_type": "code",
   "metadata": {
    "tags": []
   },
   "execution_count": null,
   "outputs": []
  },
  {
   "cell_type": "code",
   "execution_count": 40,
   "metadata": {},
   "outputs": [
    {
     "output_type": "stream",
     "name": "stdout",
     "text": [
      "Dict keys are: a, Dict values are: 1\nDict keys are: b, Dict values are: 2\nDict keys are: c, Dict values are: 3\nDict keys are: d, Dict values are: 4\nDict keys are: e, Dict values are: 5\nDone!\n"
     ]
    },
    {
     "output_type": "execute_result",
     "data": {
      "text/plain": [
       "<rx.disposable.disposable.Disposable at 0x7f5ab67b9760>"
      ]
     },
     "metadata": {},
     "execution_count": 40
    }
   ],
   "source": [
    "# from_(iterator)\n",
    "# This method will convert the given array or object into an observable.\n",
    "# iterator is an object or array\n",
    "\n",
    "# cannot stack lambdas in subscribe, or on_next\n",
    "# so it is better to use create()?\n",
    "from rx import from_\n",
    "\n",
    "dict1 = {'a': 1, 'b': 2, 'c': 3, 'd': 4, 'e': 5}\n",
    "test = from_(dict1)\n",
    "test.subscribe(\n",
    "    lambda x: print(\"Dict keys are: {keys}, Dict values are: {values}\".format(keys = x, values = dict1[x])),\n",
    "    lambda y: print(\"This will not be printed\"),\n",
    "    on_next = lambda z: print(\"This will not be printed too!\"),\n",
    "    on_completed = lambda: print(\"Done!\")\n",
    ")\n",
    "\n",
    "\n"
   ]
  },
  {
   "cell_type": "code",
   "execution_count": 41,
   "metadata": {},
   "outputs": [
    {
     "output_type": "stream",
     "name": "stdout",
     "text": [
      "The value is 125316\n",
      "From rx.interval() 97344\n",
      "The value is 139876\n",
      "From rx.interval(): 56169\n",
      "Time now is 2021-02-01 21:42:44.805091 \n",
      "The value is 156816\n",
      "From rx.interval(): 75625\n",
      " Time now is 2021-02-01 21:42:44.894360: \n",
      "From rx.interval(): 0\n",
      "Time now is 2021-02-01 21:42:45.113869 \n",
      "The value is 126025\n",
      "From rx.interval() 97969\n",
      "The value is 140625\n"
     ]
    },
    {
     "output_type": "execute_result",
     "data": {
      "text/plain": [
       "''"
      ]
     },
     "metadata": {},
     "execution_count": 41
    }
   ],
   "source": [
    "# interval\n",
    "# this method will give a series of values produced after a timeout\n",
    "# syntax: interval(period)\n",
    "# parameters: period: to start the integer sequence\n",
    "# return value: returns an observable with all the values in sequential order\n",
    "# notice that when run, the print statements returned include values from previous observable sequences\n",
    "import rx\n",
    "from rx import operators as ops\n",
    "import datetime\n",
    "rx.interval(3).pipe(\n",
    "    ops.map(lambda i: i * i)\n",
    ").subscribe(lambda x: print(\"From rx.interval(): {0}\\nTime now is {1} \".format(x, datetime.datetime.now())))\n",
    "input(\"Press any key to exit! \\n\")"
   ]
  },
  {
   "cell_type": "code",
   "execution_count": 42,
   "metadata": {},
   "outputs": [
    {
     "output_type": "stream",
     "name": "stdout",
     "text": [
      "The value is [15, 25, 50, 55]\nJob Done!\n"
     ]
    },
    {
     "output_type": "execute_result",
     "data": {
      "text/plain": [
       "<rx.disposable.disposable.Disposable at 0x7f5ab574bfd0>"
      ]
     },
     "metadata": {},
     "execution_count": 42
    }
   ],
   "source": [
    "# just\n",
    "# the method will convert given value into an observable\n",
    "# notice that the list is not iterated through, it just returns it wholesale\n",
    "\n",
    "from rx import just\n",
    "test = just([15, 25,50, 55])\n",
    "test.subscribe(\n",
    "   lambda x: print(\"The value is {0}\".format(x)),\n",
    "   on_error = lambda e: print(\"Error : {0}\".format(e)),\n",
    "   on_completed = lambda: print(\"Job Done!\")\n",
    ")"
   ]
  },
  {
   "cell_type": "code",
   "execution_count": 43,
   "metadata": {},
   "outputs": [
    {
     "output_type": "stream",
     "name": "stdout",
     "text": [
      "The value is 44\nThe value is 44\nThe value is 44\nThe value is 44\nThe value is 44\nThe value is 44\nThe value is 44\nThe value is 44\nThe value is 44\nThe value is 44\nJob Done!\n"
     ]
    },
    {
     "output_type": "execute_result",
     "data": {
      "text/plain": [
       "<rx.disposable.disposable.Disposable at 0x7f5ab67b9f40>"
      ]
     },
     "metadata": {},
     "execution_count": 43
    }
   ],
   "source": [
    "from rx import repeat_value\n",
    "test = repeat_value(44,10)\n",
    "test.subscribe(\n",
    "   lambda x: print(\"The value is {0}\".format(x)),\n",
    "   on_error = lambda e: print(\"Error : {0}\".format(e)),\n",
    "   on_completed = lambda: print(\"Job Done!\")\n",
    ")"
   ]
  },
  {
   "cell_type": "code",
   "execution_count": 44,
   "metadata": {},
   "outputs": [
    {
     "output_type": "stream",
     "name": "stdout",
     "text": [
      "From rx.interval(): 57121\n",
      "Time now is 2021-02-01 21:42:50.806912 \n",
      "The value is 158404\n",
      "From rx.interval(): 76729\n",
      " Time now is 2021-02-01 21:42:50.895677: \n",
      "From rx.interval(): 4\n",
      "Time now is 2021-02-01 21:42:51.116155 \n",
      "The value is 127449\n",
      "From rx.interval() 99225\n",
      "The value is 142129\n",
      "From rx.interval(): 57600\n",
      "Time now is 2021-02-01 21:42:53.807300 \n",
      "The value is 159201\n",
      "From rx.interval(): 77284\n",
      " Time now is 2021-02-01 21:42:53.896594: \n",
      "From rx.interval(): 9\n",
      "Time now is 2021-02-01 21:42:54.116522 \n",
      "The value is 128164\n",
      "The value is 0\n",
      "From rx.interval() 99856\n",
      "The value is 142884\n",
      "From rx.interval(): 58081\n",
      "Time now is 2021-02-01 21:42:56.807948 \n",
      "The value is 160000\n",
      "From rx.interval(): 77841\n",
      " Time now is 2021-02-01 21:42:56.902933: \n"
     ]
    },
    {
     "output_type": "execute_result",
     "data": {
      "text/plain": [
       "''"
      ]
     },
     "metadata": {},
     "execution_count": 44
    }
   ],
   "source": [
    "# notice that timer clash with interval\n",
    "\"\"\"\n",
    "Syntax\n",
    "timer(duetime)\n",
    "Parameters\n",
    "duetime: time after which it should emit the first value.\n",
    "\n",
    "Return value\n",
    "It will return an observable with values emitted after duetime.\n",
    "\n",
    "\"\"\"\n",
    "import rx\n",
    "from rx import operators as ops\n",
    "rx.timer(5.0, 10).pipe(\n",
    "   ops.map(lambda i: i * i)\n",
    ").subscribe(lambda x: print(\"The value is {0}\".format(x)))\n",
    "input(\"Press any key to exit\\n\")"
   ]
  },
  {
   "cell_type": "code",
   "execution_count": null,
   "metadata": {},
   "outputs": [],
   "source": []
  }
 ]
}